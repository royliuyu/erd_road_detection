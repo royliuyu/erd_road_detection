{
 "cells": [
  {
   "cell_type": "code",
   "execution_count": 1,
   "id": "9f851240",
   "metadata": {
    "scrolled": true
   },
   "outputs": [],
   "source": [
    "'''\n",
    "input: file with empty/nonempty road and latency for each frame\n",
    "output: file(at folder of \"fps_converted\") with accumulative \"empty road %\" and fps at the time of each frame\n",
    "\n",
    "'''\n",
    "import pandas as pd\n",
    "import os\n",
    "import numpy as np\n",
    "import re\n",
    "\n",
    "################## choose files to convert here ##############\n",
    "# 1. cuda +cuda (stage1 +stage2):\n",
    "# file = 'stage1_erd_cuda+stage2_yolov5_cuda.csv'\n",
    "# file ='stage1_erd_cuda+stage2_efficientDet_cuda.csv'\n",
    "# file = 'stage1_erd_cuda+stage2_ssd_cuda.csv'\n",
    "#\n",
    "# 2. cpu + cuda (stage1 +stage2):\n",
    "# file = 'stage1_erd_cpu+stage2_yolov5_cuda.csv'\n",
    "# file = 'stage1_erd_cpu+stage2_ssd_cuda.csv'\n",
    "file ='stage1_erd_cpu+stage2_efficientDet_cuda.csv'\n",
    "\n",
    "# 3. cpu + cpu (stage1 +stage2):\n",
    "# file = 'stage1_erd_cpu+stage2_efficientDet_cpu.csv'\n",
    "# file = 'stage1_erd_cpu+stage2_ssd_cpu.csv'\n",
    "# file = 'stage1_erd_cpu+stage2_yolov5_cpu.csv'\n",
    "##############################################################\n",
    "\n",
    "\n",
    "\n",
    "file_prefix = re.findall(r'(.+).csv',file)[0]\n",
    "data = pd.read_csv(os.path.join('../result/raw_data', file), index_col = None)\n",
    "data = data[100:]  ## take out the gpu warm up \n",
    "data['empty_road_detection_result']= data['empty_road_detection_result'].astype(int) ### value 0 means road is empty\n",
    "data['latency_whole']=data['latency_whole'].astype(float)\n",
    "er_sum = 0\n",
    "er_list = data['empty_road_detection_result'].tolist()\n",
    "latency_list = data['latency_whole'].tolist()\n",
    "# accum_ave_latency = []\n",
    "fps_list = []\n",
    "empty_rate_list, accum_ave_latency, fps_list  = [], [], []\n",
    "for cnt in range(1,len(er_list)):\n",
    "    er_sum += er_list[cnt] ## 0 means road is empty\n",
    "    empty_rate_list.append(1-er_sum/cnt)  \n",
    "    ave_latency = np.mean(latency_list[:cnt])\n",
    "    accum_ave_latency.append(ave_latency)\n",
    "    fps_list.append(1/ave_latency)\n",
    "# accum_ave_latency=accum_ave_latency[1:]\n",
    "\n",
    "result = pd.DataFrame(columns = ['road_empty %', 'average_latency','fps'])\n",
    "result['road_empty %'] = empty_rate_list\n",
    "result['average_latency'] = accum_ave_latency\n",
    "result['fps'] = fps_list\n",
    "\n",
    "result.to_csv('temp.csv')\n",
    "result.to_csv('../result/fps_converted/'+'fps_result_'+file_prefix+'.csv')"
   ]
  }
 ],
 "metadata": {
  "kernelspec": {
   "display_name": "Python 3 (ipykernel)",
   "language": "python",
   "name": "python3"
  },
  "language_info": {
   "codemirror_mode": {
    "name": "ipython",
    "version": 3
   },
   "file_extension": ".py",
   "mimetype": "text/x-python",
   "name": "python",
   "nbconvert_exporter": "python",
   "pygments_lexer": "ipython3",
   "version": "3.9.0"
  }
 },
 "nbformat": 4,
 "nbformat_minor": 5
}
